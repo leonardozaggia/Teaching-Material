{
 "cells": [
  {
   "cell_type": "markdown",
   "metadata": {},
   "source": [
    "# _SEMOPY_: an efficient alternative to _lavaan_\n",
    "## Structural Equation Modeling using Python\n",
    "### 24.08.2023\n",
    "### Leonardo Zaggia - demo project"
   ]
  },
  {
   "cell_type": "markdown",
   "metadata": {},
   "source": [
    "# Tutorial\n",
    "\n",
    "What does `semopy` do?\n",
    "\n",
    "1. Write down a model description in a user-friendly syntax<br>\n",
    "2. Estimate model's parameters using a variety of objective functions<br>\n",
    "3. Calculate numerous statistics and fit indices<br>\n",
    "4. Estimate model's parameters in presence of ordinal variables<br>\n",
    "5. A vast number of settings to fit a researcher's needs<br>\n",
    "6. Fast and accurate\n",
    "\n",
    "## Installation\n",
    "\n",
    "`semopy` is available at PyPi and can be installed by typing the following line into the terminal. Let's do some homekeeping: <br><br>\n",
    "- create a new virtual environment and activate it\n",
    "    ```bash\n",
    "    python3 -m venv .venv\n",
    "    . .venv/bin/activate\n",
    "    ```\n",
    "\n",
    "- install `semopy` and scikit-learn (package needed by semopy to do extra fast calculations)\n",
    "    ```bash\n",
    "    pip install semopy\n",
    "    pip install scikit-learn\n",
    "    ```\n",
    "Here you go, your python environment has been set up and you can start using `semopy`!"
   ]
  },
  {
   "cell_type": "markdown",
   "metadata": {},
   "source": [
    "\n",
    "## Syntax\n",
    "\n",
    "To specify SEM models, `semopy` uses syntax that resembles the popular lavaan in R.<br>\n",
    "The syntax supports three operator symbols characterizing relationships between variables:\n",
    "\n",
    "```\n",
    "- `~` to specify the structural part                -> the regression operator\n",
    "- `=~` to specify the measurement part              -> for latent variable definition\n",
    "- `~~` to specify common variance between variables\n",
    "``````\n",
    "\n",
    "For example, let a linear equation in the structural part of an SEM model take the form:"
   ]
  },
  {
   "cell_type": "markdown",
   "metadata": {},
   "source": [
    "```python\n",
    "y = β1 x1 + β2 x2 + ε"
   ]
  },
  {
   "cell_type": "markdown",
   "metadata": {},
   "source": [
    "Then, in `semopy` syntax it becomes:"
   ]
  },
  {
   "cell_type": "markdown",
   "metadata": {},
   "source": [
    "```python\n",
    "y ~ x1 + x2"
   ]
  },
  {
   "cell_type": "markdown",
   "metadata": {},
   "source": [
    "\n",
    "Parameters `β1`, `β2` are to be estimated by `semopy`.<br>\n",
    "In some cases, a user might want to fix some parameters to a particular value. <br>\n",
    "In Structural Equation Modeling (SEM) this is called fixing the loading.<br>\n",
    "This \n",
    "For instance,<br>\n",
    "using SEM gergo, if we want `β1` to be our fixed loading only estimate the loading belonging to the second indicator `β2`,<br>\n",
    "we can do it as follows:\n",
    "\n",
    "```python\n",
    "y ~ 1*x1 + x2"
   ]
  },
  {
   "cell_type": "markdown",
   "metadata": {},
   "source": [
    "\n",
    "Likewise, if a latent variable `η` is explained by manifest variables `y1`, `y2`, `y3`, then in `semopy` syntax it can be written down this way:\n",
    "\n",
    "```{code-cell} ipython3\n",
    "eta =~ y1 + y2 + y3"
   ]
  },
  {
   "cell_type": "markdown",
   "metadata": {},
   "source": [
    "\n",
    "It is also possible to specify a type of variable. If variable `x2` is ordinal, we can inform the package about it using a special operator `is`:\n",
    "\n",
    "```{code-cell}python\n",
    "x2 is ordinal"
   ]
  },
  {
   "cell_type": "markdown",
   "metadata": {},
   "source": [
    "\n",
    "## Quickstart\n",
    "\n",
    "The pipeline for working with SEM models in `semopy` consists of three steps:\n",
    "\n",
    "1. Specifying a model\n",
    "2. Loading a dataset into the model\n",
    "3. Estimating parameters of the model.\n",
    "\n",
    "The power of SEM lies in it's ability to model latent variables. There a few of ways to specify them in semopy, but the most straightforward one is to use the measurement operator =~. See how it's done in a classical \"Holzinger-Swineford 1939\" dataset, we will start with a `CFA` model:"
   ]
  },
  {
   "cell_type": "code",
   "execution_count": 1,
   "metadata": {},
   "outputs": [
    {
     "name": "stdout",
     "output_type": "stream",
     "text": [
      "visual =~ x1 + x2 + x3\n",
      "textual =~ x4 + x5 + x6\n",
      "speed =~ x7 + x8 + x9\n"
     ]
    },
    {
     "data": {
      "text/html": [
       "<div>\n",
       "<style scoped>\n",
       "    .dataframe tbody tr th:only-of-type {\n",
       "        vertical-align: middle;\n",
       "    }\n",
       "\n",
       "    .dataframe tbody tr th {\n",
       "        vertical-align: top;\n",
       "    }\n",
       "\n",
       "    .dataframe thead th {\n",
       "        text-align: right;\n",
       "    }\n",
       "</style>\n",
       "<table border=\"1\" class=\"dataframe\">\n",
       "  <thead>\n",
       "    <tr style=\"text-align: right;\">\n",
       "      <th></th>\n",
       "      <th>id</th>\n",
       "      <th>sex</th>\n",
       "      <th>ageyr</th>\n",
       "      <th>agemo</th>\n",
       "      <th>school</th>\n",
       "      <th>grade</th>\n",
       "      <th>x1</th>\n",
       "      <th>x2</th>\n",
       "      <th>x3</th>\n",
       "      <th>x4</th>\n",
       "      <th>x5</th>\n",
       "      <th>x6</th>\n",
       "      <th>x7</th>\n",
       "      <th>x8</th>\n",
       "      <th>x9</th>\n",
       "    </tr>\n",
       "  </thead>\n",
       "  <tbody>\n",
       "    <tr>\n",
       "      <th>1</th>\n",
       "      <td>1</td>\n",
       "      <td>1</td>\n",
       "      <td>13</td>\n",
       "      <td>1</td>\n",
       "      <td>Pasteur</td>\n",
       "      <td>7.0</td>\n",
       "      <td>3.333333</td>\n",
       "      <td>7.75</td>\n",
       "      <td>0.375</td>\n",
       "      <td>2.333333</td>\n",
       "      <td>5.75</td>\n",
       "      <td>1.285714</td>\n",
       "      <td>3.391304</td>\n",
       "      <td>5.75</td>\n",
       "      <td>6.361111</td>\n",
       "    </tr>\n",
       "    <tr>\n",
       "      <th>2</th>\n",
       "      <td>2</td>\n",
       "      <td>2</td>\n",
       "      <td>13</td>\n",
       "      <td>7</td>\n",
       "      <td>Pasteur</td>\n",
       "      <td>7.0</td>\n",
       "      <td>5.333333</td>\n",
       "      <td>5.25</td>\n",
       "      <td>2.125</td>\n",
       "      <td>1.666667</td>\n",
       "      <td>3.00</td>\n",
       "      <td>1.285714</td>\n",
       "      <td>3.782609</td>\n",
       "      <td>6.25</td>\n",
       "      <td>7.916667</td>\n",
       "    </tr>\n",
       "    <tr>\n",
       "      <th>3</th>\n",
       "      <td>3</td>\n",
       "      <td>2</td>\n",
       "      <td>13</td>\n",
       "      <td>1</td>\n",
       "      <td>Pasteur</td>\n",
       "      <td>7.0</td>\n",
       "      <td>4.500000</td>\n",
       "      <td>5.25</td>\n",
       "      <td>1.875</td>\n",
       "      <td>1.000000</td>\n",
       "      <td>1.75</td>\n",
       "      <td>0.428571</td>\n",
       "      <td>3.260870</td>\n",
       "      <td>3.90</td>\n",
       "      <td>4.416667</td>\n",
       "    </tr>\n",
       "    <tr>\n",
       "      <th>4</th>\n",
       "      <td>4</td>\n",
       "      <td>1</td>\n",
       "      <td>13</td>\n",
       "      <td>2</td>\n",
       "      <td>Pasteur</td>\n",
       "      <td>7.0</td>\n",
       "      <td>5.333333</td>\n",
       "      <td>7.75</td>\n",
       "      <td>3.000</td>\n",
       "      <td>2.666667</td>\n",
       "      <td>4.50</td>\n",
       "      <td>2.428571</td>\n",
       "      <td>3.000000</td>\n",
       "      <td>5.30</td>\n",
       "      <td>4.861111</td>\n",
       "    </tr>\n",
       "    <tr>\n",
       "      <th>5</th>\n",
       "      <td>5</td>\n",
       "      <td>2</td>\n",
       "      <td>12</td>\n",
       "      <td>2</td>\n",
       "      <td>Pasteur</td>\n",
       "      <td>7.0</td>\n",
       "      <td>4.833333</td>\n",
       "      <td>4.75</td>\n",
       "      <td>0.875</td>\n",
       "      <td>2.666667</td>\n",
       "      <td>4.00</td>\n",
       "      <td>2.571429</td>\n",
       "      <td>3.695652</td>\n",
       "      <td>6.30</td>\n",
       "      <td>5.916667</td>\n",
       "    </tr>\n",
       "  </tbody>\n",
       "</table>\n",
       "</div>"
      ],
      "text/plain": [
       "   id  sex  ageyr  agemo   school  grade        x1    x2     x3        x4  \\\n",
       "1   1    1     13      1  Pasteur    7.0  3.333333  7.75  0.375  2.333333   \n",
       "2   2    2     13      7  Pasteur    7.0  5.333333  5.25  2.125  1.666667   \n",
       "3   3    2     13      1  Pasteur    7.0  4.500000  5.25  1.875  1.000000   \n",
       "4   4    1     13      2  Pasteur    7.0  5.333333  7.75  3.000  2.666667   \n",
       "5   5    2     12      2  Pasteur    7.0  4.833333  4.75  0.875  2.666667   \n",
       "\n",
       "     x5        x6        x7    x8        x9  \n",
       "1  5.75  1.285714  3.391304  5.75  6.361111  \n",
       "2  3.00  1.285714  3.782609  6.25  7.916667  \n",
       "3  1.75  0.428571  3.260870  3.90  4.416667  \n",
       "4  4.50  2.428571  3.000000  5.30  4.861111  \n",
       "5  4.00  2.571429  3.695652  6.30  5.916667  "
      ]
     },
     "execution_count": 1,
     "metadata": {},
     "output_type": "execute_result"
    }
   ],
   "source": [
    "# import sample data provided by semopy\n",
    "from semopy.examples import holzinger39\n",
    "\n",
    "# extract an already specified model and data\n",
    "model_specification = holzinger39.get_model()\n",
    "data = holzinger39.get_data()\n",
    "\n",
    "# show the model and the first few columns of the data\n",
    "print(model_specification)\n",
    "data.head()"
   ]
  },
  {
   "cell_type": "markdown",
   "metadata": {},
   "source": [
    "Here the model was already specified for us.<br>\n",
    "<br>\n",
    "Alternatively, we could have specified the model ourselves: <br>\n",
    "\n",
    "```python\n",
    "\n",
    "# specify the model\n",
    "model_specification = \"\"\"\n",
    "        visual =~ x1 + x2 + x3          # visual latent variable -> identified/measured by 3 indicators\n",
    "        text =~ x4 + x5 + x6            # text latent variable -> identified/measured by 3 indicators\n",
    "        text ~ visual                   # text is predicted by visual\n",
    "      \"\"\"\n",
    "```\n",
    "\n",
    "But lets get back to the tutorial. <br>\n",
    "It is now time to fit the model and see what kind of results we can observe. <br><br>\n",
    "\n",
    "**Note**\n",
    "To keep the model concise, there are some **default settings** in `semopy` which you should keep in mind:\n",
    "\n",
    "1. To scale latent variables, the factor loading of the first indicator of each latent variable is fixed to 1.\n",
    "\n",
    "2. Residual variances are estimated automatically. \n",
    "\n",
    "3. All exogenous latent variables are correlated by default. \n",
    "\n",
    "**All the default settings can be overridden and/or switched off by the user.**\n",
    "But we will not do that here. <br>"
   ]
  },
  {
   "cell_type": "code",
   "execution_count": 2,
   "metadata": {},
   "outputs": [
    {
     "name": "stdout",
     "output_type": "stream",
     "text": [
      "       lval  op     rval  Estimate  Std. Err    z-value   p-value\n",
      "0        x1   ~   visual  1.000000         -          -         -\n",
      "1        x2   ~   visual  0.554421  0.099727   5.559413       0.0\n",
      "2        x3   ~   visual  0.730526   0.10918   6.691009       0.0\n",
      "3        x4   ~  textual  1.000000         -          -         -\n",
      "4        x5   ~  textual  1.113076  0.065392  17.021522       0.0\n",
      "5        x6   ~  textual  0.926120  0.055425  16.709493       0.0\n",
      "6        x7   ~    speed  1.000000         -          -         -\n",
      "7        x8   ~    speed  1.179980  0.165045   7.149459       0.0\n",
      "8        x9   ~    speed  1.082517  0.151354   7.152197       0.0\n",
      "9     speed  ~~    speed  0.383377  0.086171   4.449045  0.000009\n",
      "10    speed  ~~   visual  0.262135  0.056252   4.659977  0.000003\n",
      "11    speed  ~~  textual  0.173603  0.049316   3.520223  0.000431\n",
      "12   visual  ~~   visual  0.808310  0.145287   5.563548       0.0\n",
      "13   visual  ~~  textual  0.408277  0.073527    5.55273       0.0\n",
      "14  textual  ~~  textual  0.980034  0.112145   8.739002       0.0\n",
      "15       x8  ~~       x8  0.487934  0.074167   6.578856       0.0\n",
      "16       x4  ~~       x4  0.371117  0.047712   7.778264       0.0\n",
      "17       x1  ~~       x1  0.550161  0.113439    4.84983  0.000001\n",
      "18       x9  ~~       x9  0.565804  0.070757   7.996483       0.0\n",
      "19       x7  ~~       x7  0.799708  0.081387   9.825966       0.0\n",
      "20       x5  ~~       x5  0.446208  0.058387   7.642264       0.0\n",
      "21       x3  ~~       x3  0.843731  0.090625    9.31016       0.0\n",
      "22       x6  ~~       x6  0.356171   0.04303   8.277334       0.0\n",
      "23       x2  ~~       x2  1.133391  0.101711  11.143202       0.0\n"
     ]
    }
   ],
   "source": [
    "from semopy import Model        \n",
    "\n",
    "# We proceed by passing the model specification to the Model class\n",
    "model = Model(model_specification)\n",
    "\n",
    "# We can now fit the model to the data, almost too easy!\n",
    "model.fit(data)\n",
    "\n",
    "# Lastly, we inspect the results of the model\n",
    "ins = model.inspect()\n",
    "print(ins)\n"
   ]
  },
  {
   "cell_type": "markdown",
   "metadata": {},
   "source": [
    "### Understanding the output\n",
    "Each row represents a `relationship` (path) between two variables in your SEM model. Let's break down the columns:<br>\n",
    "\n",
    "- **lval**: This column likely refers to the \"left value\" or the variable on the left side of the equation. It represents the predictor variable in a regression-like equation.\n",
    "<br><br>\n",
    "- **op**: This column may indicate the operation symbol used in the equation. In SEM syntax, ~ usually represents the structural relationship between variables.\n",
    "<br><br>\n",
    "- **rval**: This column likely refers to the \"right value\" or the variable on the right side of the equation. It represents the dependent variable in a regression-like equation.\n",
    "<br><br>\n",
    "- **Estimate**: This column displays the estimated parameter value (regression coefficient) for the relationship between the predictor and dependent variables.\n",
    "<br><br>\n",
    "- **Std. Err**: This column shows the standard error associated with the estimated parameter. It gives an indication of the uncertainty or variability of the parameter estimate.\n",
    "<br><br>\n",
    "- **z-value**: This column displays the z-value, which is the ratio of the estimate to the standard error. It's used to assess the statistical significance of the estimate.\n",
    "<br><br>\n",
    "- **p-value**: This column shows the p-value associated with the parameter estimate. It indicates the probability of observing the estimate if there is truly no effect (null hypothesis). Lower p-values suggest statistical significance.\n",
    "<br><br>\n",
    "\n",
    "In the context of SEM, these values are crucial for interpreting the relationships between variables in your model. For instance, you might examine the p-values to determine which relationships are statistically significant. The estimate values show the strength and direction of the relationship, while the standard errors and z-values help you gauge the precision and significance of the estimates.\n",
    "\n"
   ]
  },
  {
   "cell_type": "markdown",
   "metadata": {},
   "source": [
    "### Land Mark Reached!! ###\n",
    "I know this must have been a lot, but you have reached a land mark. You have learned how to use the semopy package to conduct a CFA, and you have all the knowledge you need to conduct a SEM.\n",
    "\n",
    "<br><br>\n",
    "But before we move on, let's take a look at the model that we have just created.\n",
    "Since data and model visualization are crucial part of the analysis pipeline.\n",
    "Take the code that you find here below and plot the model that you have just created.\n",
    "<br><br>\n",
    "\n",
    "```python\n",
    "# Plot the model\n",
    "from semopy import semplot\n",
    "path_2_figures_storage = 'sem_figures/'\n",
    "figure_name = 'simple_CFA.pdf'\n",
    "plot = semplot(model, filename=(path_2_figures_storage + figure_name))\n",
    "plot.view()\n",
    "```\n",
    "How does it look?\n",
    "It is now your turn to try it out, apply some changes to the model and try ot plot it again. A reminder in in order:\n",
    "1. **Specify the model** -> you can add a combination of new structural paths, new measurement paths, new latent variables, new observed variables\n",
    "2. **Turn your model into a Model object** -> model = Model(model_specification)\n",
    "<br><br>\n",
    "\n"
   ]
  },
  {
   "cell_type": "code",
   "execution_count": 5,
   "metadata": {},
   "outputs": [
    {
     "data": {
      "text/plain": [
       "'sem_figures/example_SEM.pdf'"
      ]
     },
     "execution_count": 5,
     "metadata": {},
     "output_type": "execute_result"
    }
   ],
   "source": [
    "from semopy import semplot\n",
    "path_2_figures_storage = 'sem_figures/'\n",
    "figure_name = 'example_SEM.pdf'\n",
    "model2 = \"\"\"\n",
    "    visual =~ x1 + x2 + x3\n",
    "    textual =~ x4 + x5 + x6\n",
    "    speed =~ x7 + x8 + x9\n",
    "    textual ~ visual\n",
    "    speed ~ visual\n",
    "    speed ~ textual\n",
    "\n",
    "\"\"\"\n",
    "model2 = Model(model2)\n",
    "\n",
    "# We can now fit the model to the data, almost too easy!\n",
    "model2.fit(data)\n",
    "\n",
    "plot = semplot(model2, filename=(path_2_figures_storage + figure_name))\n",
    "plot.view()"
   ]
  },
  {
   "cell_type": "markdown",
   "metadata": {},
   "source": [
    "**Tasks:**\n",
    "\n",
    "Following the same approach described above, lets define a SEM model based on the `demo_semopy.txt` you can find in the data folder.<br>\n",
    "We will use what we learned today about the `semopy` package to do this.\n",
    "This example is less abstract and more directly related to psychology, I hope you will find it interesting :) \n",
    "\n",
    "1. Define four latent variables\n",
    "\n",
    "   **WM** (working memory) -  indicated by **WMv, WMn, WMf**\n",
    "   \n",
    "   **SM** (secondary memory) -  indicated by **SMv, SMn, SMf**\n",
    "   \n",
    "   **Spd** (speed) - indicated by **Spd1, Spd2, Spd3, Spd4**\n",
    "   \n",
    "   **gf** (fluid intelligence) - indicated by **gfv, gfn, gff**\n",
    "\n",
    "   (psss... we talked about this as `model specification`)\n",
    "\n",
    "2. Create a CFA model following Task 1. Apply both ways of scaling latent variables. Report the covariances between the latent factors.\n",
    "\n",
    "3. Following Task _1_, create an SEM model based on your theoretical thinking on how these latent variables to relate or explain each other. Create a diagram of your postulated model."
   ]
  },
  {
   "cell_type": "code",
   "execution_count": null,
   "metadata": {},
   "outputs": [],
   "source": [
    "# import necessary function\n",
    "from pandas import read_csv\n",
    "\n",
    "# elements within txt files are usually 'tab' separated, \n",
    "# we need to pass that information to our function-> sep='\\t'\n",
    "data = read_csv('data/demo_semopy.txt', sep='\\t')\n",
    "\n",
    "# print the head of the data -> first 5 rows\n",
    "print(data.head())\n",
    "# print the keys of the df -> get an idea of what we are dealing with\n",
    "print(data.keys())\n",
    "\n",
    "model = Model(mod)\n",
    "\"\"\"\n",
    "# fit the model\n",
    "res = model.fit(data)\n",
    "\n",
    "# print the results\n",
    "print(res.summary())\n",
    "\"\"\""
   ]
  },
  {
   "cell_type": "markdown",
   "metadata": {},
   "source": [
    "## Hurray! <br>\n",
    "### You have successfully learned how to move your SEM workflow from R to Python!!.\n",
    " I know Structural Equation Modeling can be intimidating, but with more hands on an practice, you will absorbe all the skills needed in __no time!__. You have succesfully reached the `end of this tutorial`, I hope you have learned something new and useful. If you have any questions, please feel free to drop me an email. I will try to answer them as soon as possible. Also, if you have any suggestions or feedback, please let me know. I would love to hear them. Thank you for reading this tutorial. Have a good day!"
   ]
  }
 ],
 "metadata": {
  "kernelspec": {
   "display_name": ".venv",
   "language": "python",
   "name": "python3"
  },
  "language_info": {
   "codemirror_mode": {
    "name": "ipython",
    "version": 3
   },
   "file_extension": ".py",
   "mimetype": "text/x-python",
   "name": "python",
   "nbconvert_exporter": "python",
   "pygments_lexer": "ipython3",
   "version": "3.11.4"
  },
  "orig_nbformat": 4
 },
 "nbformat": 4,
 "nbformat_minor": 2
}
